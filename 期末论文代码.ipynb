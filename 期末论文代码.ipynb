{
 "cells": [
  {
   "cell_type": "code",
   "execution_count": 1,
   "metadata": {},
   "outputs": [],
   "source": [
    "import gurobipy as grb\n",
    "import pandas as pd\n",
    "import numpy as np"
   ]
  },
  {
   "cell_type": "code",
   "execution_count": 89,
   "metadata": {},
   "outputs": [],
   "source": [
    "#data = pro.daily(ts_code=code, start_date='20210101', end_date='20211231')\n",
    "data = pd.read_csv('.\\TRD_Dalyr.csv')"
   ]
  },
  {
   "cell_type": "code",
   "execution_count": 90,
   "metadata": {},
   "outputs": [
    {
     "data": {
      "text/html": [
       "<div>\n",
       "<style scoped>\n",
       "    .dataframe tbody tr th:only-of-type {\n",
       "        vertical-align: middle;\n",
       "    }\n",
       "\n",
       "    .dataframe tbody tr th {\n",
       "        vertical-align: top;\n",
       "    }\n",
       "\n",
       "    .dataframe thead th {\n",
       "        text-align: right;\n",
       "    }\n",
       "</style>\n",
       "<table border=\"1\" class=\"dataframe\">\n",
       "  <thead>\n",
       "    <tr style=\"text-align: right;\">\n",
       "      <th></th>\n",
       "      <th>Stkcd</th>\n",
       "      <th>Trddt</th>\n",
       "      <th>Opnprc</th>\n",
       "      <th>Clsprc</th>\n",
       "    </tr>\n",
       "  </thead>\n",
       "  <tbody>\n",
       "    <tr>\n",
       "      <th>0</th>\n",
       "      <td>600000</td>\n",
       "      <td>2020-01-02</td>\n",
       "      <td>12.47</td>\n",
       "      <td>12.47</td>\n",
       "    </tr>\n",
       "    <tr>\n",
       "      <th>1</th>\n",
       "      <td>600000</td>\n",
       "      <td>2020-01-03</td>\n",
       "      <td>12.57</td>\n",
       "      <td>12.60</td>\n",
       "    </tr>\n",
       "    <tr>\n",
       "      <th>2</th>\n",
       "      <td>600000</td>\n",
       "      <td>2020-01-06</td>\n",
       "      <td>12.52</td>\n",
       "      <td>12.46</td>\n",
       "    </tr>\n",
       "    <tr>\n",
       "      <th>3</th>\n",
       "      <td>600000</td>\n",
       "      <td>2020-01-07</td>\n",
       "      <td>12.51</td>\n",
       "      <td>12.50</td>\n",
       "    </tr>\n",
       "    <tr>\n",
       "      <th>4</th>\n",
       "      <td>600000</td>\n",
       "      <td>2020-01-08</td>\n",
       "      <td>12.41</td>\n",
       "      <td>12.32</td>\n",
       "    </tr>\n",
       "    <tr>\n",
       "      <th>...</th>\n",
       "      <td>...</td>\n",
       "      <td>...</td>\n",
       "      <td>...</td>\n",
       "      <td>...</td>\n",
       "    </tr>\n",
       "    <tr>\n",
       "      <th>11445</th>\n",
       "      <td>603986</td>\n",
       "      <td>2020-12-25</td>\n",
       "      <td>188.15</td>\n",
       "      <td>183.13</td>\n",
       "    </tr>\n",
       "    <tr>\n",
       "      <th>11446</th>\n",
       "      <td>603986</td>\n",
       "      <td>2020-12-28</td>\n",
       "      <td>183.01</td>\n",
       "      <td>184.25</td>\n",
       "    </tr>\n",
       "    <tr>\n",
       "      <th>11447</th>\n",
       "      <td>603986</td>\n",
       "      <td>2020-12-29</td>\n",
       "      <td>185.55</td>\n",
       "      <td>193.81</td>\n",
       "    </tr>\n",
       "    <tr>\n",
       "      <th>11448</th>\n",
       "      <td>603986</td>\n",
       "      <td>2020-12-30</td>\n",
       "      <td>191.88</td>\n",
       "      <td>195.22</td>\n",
       "    </tr>\n",
       "    <tr>\n",
       "      <th>11449</th>\n",
       "      <td>603986</td>\n",
       "      <td>2020-12-31</td>\n",
       "      <td>197.48</td>\n",
       "      <td>197.50</td>\n",
       "    </tr>\n",
       "  </tbody>\n",
       "</table>\n",
       "<p>11450 rows × 4 columns</p>\n",
       "</div>"
      ],
      "text/plain": [
       "        Stkcd       Trddt  Opnprc  Clsprc\n",
       "0      600000  2020-01-02   12.47   12.47\n",
       "1      600000  2020-01-03   12.57   12.60\n",
       "2      600000  2020-01-06   12.52   12.46\n",
       "3      600000  2020-01-07   12.51   12.50\n",
       "4      600000  2020-01-08   12.41   12.32\n",
       "...       ...         ...     ...     ...\n",
       "11445  603986  2020-12-25  188.15  183.13\n",
       "11446  603986  2020-12-28  183.01  184.25\n",
       "11447  603986  2020-12-29  185.55  193.81\n",
       "11448  603986  2020-12-30  191.88  195.22\n",
       "11449  603986  2020-12-31  197.48  197.50\n",
       "\n",
       "[11450 rows x 4 columns]"
      ]
     },
     "execution_count": 90,
     "metadata": {},
     "output_type": "execute_result"
    }
   ],
   "source": [
    "data"
   ]
  },
  {
   "cell_type": "code",
   "execution_count": 92,
   "metadata": {},
   "outputs": [],
   "source": [
    "#获取股票代码列表\n",
    "stocks = set(data['Stkcd'].values)"
   ]
  },
  {
   "cell_type": "code",
   "execution_count": 95,
   "metadata": {},
   "outputs": [],
   "source": [
    "#筛选数据，剔除有交易异常的股票\n",
    "codes = []\n",
    "for i in stocks:\n",
    "    if data[data['Stkcd']==i].shape[0]==243:\n",
    "        codes.append(i)"
   ]
  },
  {
   "cell_type": "code",
   "execution_count": 99,
   "metadata": {},
   "outputs": [],
   "source": [
    "data1 = data[data['Stkcd'].isin(codes)].copy() #copy后不改变原数据"
   ]
  },
  {
   "cell_type": "code",
   "execution_count": 100,
   "metadata": {},
   "outputs": [],
   "source": [
    "data1['return'] = (data1['Clsprc']-data1['Opnprc'])/data1['Opnprc']"
   ]
  },
  {
   "cell_type": "code",
   "execution_count": 123,
   "metadata": {},
   "outputs": [],
   "source": [
    "#转化为收益率矩阵\n",
    "stocks = [str(i) for i in codes]\n",
    "ret = pd.DataFrame()\n",
    "for i in codes:\n",
    "    ret[str(i)] = data1[data1['Stkcd'] == i]['return'].values"
   ]
  },
  {
   "cell_type": "code",
   "execution_count": 301,
   "metadata": {},
   "outputs": [
    {
     "data": {
      "text/html": [
       "<div>\n",
       "<style scoped>\n",
       "    .dataframe tbody tr th:only-of-type {\n",
       "        vertical-align: middle;\n",
       "    }\n",
       "\n",
       "    .dataframe tbody tr th {\n",
       "        vertical-align: top;\n",
       "    }\n",
       "\n",
       "    .dataframe thead th {\n",
       "        text-align: right;\n",
       "    }\n",
       "</style>\n",
       "<table border=\"1\" class=\"dataframe\">\n",
       "  <thead>\n",
       "    <tr style=\"text-align: right;\">\n",
       "      <th></th>\n",
       "      <th>601088</th>\n",
       "      <th>601601</th>\n",
       "      <th>601857</th>\n",
       "      <th>600196</th>\n",
       "      <th>600837</th>\n",
       "      <th>600585</th>\n",
       "      <th>600588</th>\n",
       "      <th>603259</th>\n",
       "      <th>603288</th>\n",
       "      <th>601628</th>\n",
       "      <th>...</th>\n",
       "      <th>600809</th>\n",
       "      <th>601066</th>\n",
       "      <th>603501</th>\n",
       "      <th>600050</th>\n",
       "      <th>600436</th>\n",
       "      <th>600309</th>\n",
       "      <th>600438</th>\n",
       "      <th>601336</th>\n",
       "      <th>600570</th>\n",
       "      <th>601211</th>\n",
       "    </tr>\n",
       "  </thead>\n",
       "  <tbody>\n",
       "    <tr>\n",
       "      <th>0</th>\n",
       "      <td>0.008681</td>\n",
       "      <td>0.009870</td>\n",
       "      <td>0.001706</td>\n",
       "      <td>0.010086</td>\n",
       "      <td>-0.007619</td>\n",
       "      <td>0.009042</td>\n",
       "      <td>0.058412</td>\n",
       "      <td>-0.009406</td>\n",
       "      <td>0.002320</td>\n",
       "      <td>-0.004841</td>\n",
       "      <td>...</td>\n",
       "      <td>-0.001237</td>\n",
       "      <td>0.001920</td>\n",
       "      <td>0.039819</td>\n",
       "      <td>0.020270</td>\n",
       "      <td>-0.007001</td>\n",
       "      <td>-0.010796</td>\n",
       "      <td>0.063910</td>\n",
       "      <td>0.015984</td>\n",
       "      <td>0.007994</td>\n",
       "      <td>-0.006915</td>\n",
       "    </tr>\n",
       "    <tr>\n",
       "      <th>1</th>\n",
       "      <td>0.001079</td>\n",
       "      <td>0.005584</td>\n",
       "      <td>0.013629</td>\n",
       "      <td>0.001848</td>\n",
       "      <td>0.005758</td>\n",
       "      <td>-0.023571</td>\n",
       "      <td>-0.000330</td>\n",
       "      <td>-0.026077</td>\n",
       "      <td>-0.028479</td>\n",
       "      <td>-0.003135</td>\n",
       "      <td>...</td>\n",
       "      <td>-0.004091</td>\n",
       "      <td>0.002258</td>\n",
       "      <td>-0.035519</td>\n",
       "      <td>-0.003300</td>\n",
       "      <td>-0.004566</td>\n",
       "      <td>0.018605</td>\n",
       "      <td>0.012694</td>\n",
       "      <td>-0.001176</td>\n",
       "      <td>-0.001516</td>\n",
       "      <td>0.009110</td>\n",
       "    </tr>\n",
       "    <tr>\n",
       "      <th>2</th>\n",
       "      <td>0.011309</td>\n",
       "      <td>-0.022785</td>\n",
       "      <td>0.033167</td>\n",
       "      <td>-0.006696</td>\n",
       "      <td>0.016077</td>\n",
       "      <td>-0.012775</td>\n",
       "      <td>0.016584</td>\n",
       "      <td>-0.016580</td>\n",
       "      <td>-0.010504</td>\n",
       "      <td>-0.002591</td>\n",
       "      <td>...</td>\n",
       "      <td>-0.015143</td>\n",
       "      <td>0.020132</td>\n",
       "      <td>-0.001129</td>\n",
       "      <td>0.006689</td>\n",
       "      <td>0.003232</td>\n",
       "      <td>-0.026455</td>\n",
       "      <td>0.057828</td>\n",
       "      <td>-0.012392</td>\n",
       "      <td>0.021711</td>\n",
       "      <td>0.019293</td>\n",
       "    </tr>\n",
       "    <tr>\n",
       "      <th>3</th>\n",
       "      <td>0.006417</td>\n",
       "      <td>0.003594</td>\n",
       "      <td>-0.009724</td>\n",
       "      <td>0.006737</td>\n",
       "      <td>-0.004425</td>\n",
       "      <td>0.006777</td>\n",
       "      <td>0.000324</td>\n",
       "      <td>0.011041</td>\n",
       "      <td>0.020900</td>\n",
       "      <td>0.006877</td>\n",
       "      <td>...</td>\n",
       "      <td>0.003811</td>\n",
       "      <td>0.028405</td>\n",
       "      <td>-0.015000</td>\n",
       "      <td>-0.001658</td>\n",
       "      <td>0.010189</td>\n",
       "      <td>-0.007609</td>\n",
       "      <td>0.000659</td>\n",
       "      <td>0.007357</td>\n",
       "      <td>0.019363</td>\n",
       "      <td>-0.002619</td>\n",
       "    </tr>\n",
       "    <tr>\n",
       "      <th>4</th>\n",
       "      <td>-0.025491</td>\n",
       "      <td>-0.005168</td>\n",
       "      <td>-0.004792</td>\n",
       "      <td>-0.016455</td>\n",
       "      <td>-0.021879</td>\n",
       "      <td>-0.005849</td>\n",
       "      <td>0.004916</td>\n",
       "      <td>-0.000458</td>\n",
       "      <td>0.001604</td>\n",
       "      <td>-0.017842</td>\n",
       "      <td>...</td>\n",
       "      <td>0.013873</td>\n",
       "      <td>-0.019872</td>\n",
       "      <td>0.009609</td>\n",
       "      <td>-0.010033</td>\n",
       "      <td>0.002097</td>\n",
       "      <td>-0.010398</td>\n",
       "      <td>-0.046735</td>\n",
       "      <td>-0.013917</td>\n",
       "      <td>0.001486</td>\n",
       "      <td>-0.009043</td>\n",
       "    </tr>\n",
       "    <tr>\n",
       "      <th>...</th>\n",
       "      <td>...</td>\n",
       "      <td>...</td>\n",
       "      <td>...</td>\n",
       "      <td>...</td>\n",
       "      <td>...</td>\n",
       "      <td>...</td>\n",
       "      <td>...</td>\n",
       "      <td>...</td>\n",
       "      <td>...</td>\n",
       "      <td>...</td>\n",
       "      <td>...</td>\n",
       "      <td>...</td>\n",
       "      <td>...</td>\n",
       "      <td>...</td>\n",
       "      <td>...</td>\n",
       "      <td>...</td>\n",
       "      <td>...</td>\n",
       "      <td>...</td>\n",
       "      <td>...</td>\n",
       "      <td>...</td>\n",
       "      <td>...</td>\n",
       "    </tr>\n",
       "    <tr>\n",
       "      <th>238</th>\n",
       "      <td>0.023269</td>\n",
       "      <td>-0.011449</td>\n",
       "      <td>0.004819</td>\n",
       "      <td>-0.029791</td>\n",
       "      <td>0.007968</td>\n",
       "      <td>-0.004865</td>\n",
       "      <td>0.025000</td>\n",
       "      <td>0.047225</td>\n",
       "      <td>0.041451</td>\n",
       "      <td>0.004552</td>\n",
       "      <td>...</td>\n",
       "      <td>0.026677</td>\n",
       "      <td>0.000750</td>\n",
       "      <td>-0.034622</td>\n",
       "      <td>0.008989</td>\n",
       "      <td>0.012146</td>\n",
       "      <td>0.040023</td>\n",
       "      <td>0.066211</td>\n",
       "      <td>-0.012153</td>\n",
       "      <td>0.027432</td>\n",
       "      <td>0.011144</td>\n",
       "    </tr>\n",
       "    <tr>\n",
       "      <th>239</th>\n",
       "      <td>-0.003759</td>\n",
       "      <td>0.024011</td>\n",
       "      <td>-0.007194</td>\n",
       "      <td>-0.049571</td>\n",
       "      <td>-0.007911</td>\n",
       "      <td>-0.018768</td>\n",
       "      <td>-0.020673</td>\n",
       "      <td>-0.019182</td>\n",
       "      <td>-0.011959</td>\n",
       "      <td>-0.001335</td>\n",
       "      <td>...</td>\n",
       "      <td>0.066369</td>\n",
       "      <td>-0.007828</td>\n",
       "      <td>0.017682</td>\n",
       "      <td>0.004464</td>\n",
       "      <td>-0.004024</td>\n",
       "      <td>-0.031797</td>\n",
       "      <td>0.010973</td>\n",
       "      <td>0.015631</td>\n",
       "      <td>-0.015769</td>\n",
       "      <td>-0.011034</td>\n",
       "    </tr>\n",
       "    <tr>\n",
       "      <th>240</th>\n",
       "      <td>-0.024324</td>\n",
       "      <td>0.000828</td>\n",
       "      <td>-0.002415</td>\n",
       "      <td>-0.019392</td>\n",
       "      <td>-0.011111</td>\n",
       "      <td>0.019406</td>\n",
       "      <td>0.049325</td>\n",
       "      <td>-0.001931</td>\n",
       "      <td>0.003865</td>\n",
       "      <td>0.008558</td>\n",
       "      <td>...</td>\n",
       "      <td>0.004520</td>\n",
       "      <td>0.001519</td>\n",
       "      <td>-0.014667</td>\n",
       "      <td>-0.004435</td>\n",
       "      <td>-0.027850</td>\n",
       "      <td>0.010975</td>\n",
       "      <td>-0.076481</td>\n",
       "      <td>0.004561</td>\n",
       "      <td>-0.002331</td>\n",
       "      <td>0.000000</td>\n",
       "    </tr>\n",
       "    <tr>\n",
       "      <th>241</th>\n",
       "      <td>0.003898</td>\n",
       "      <td>-0.001103</td>\n",
       "      <td>0.002427</td>\n",
       "      <td>0.010537</td>\n",
       "      <td>0.004827</td>\n",
       "      <td>0.002734</td>\n",
       "      <td>-0.008702</td>\n",
       "      <td>0.014772</td>\n",
       "      <td>0.026013</td>\n",
       "      <td>-0.002136</td>\n",
       "      <td>...</td>\n",
       "      <td>0.008760</td>\n",
       "      <td>0.027813</td>\n",
       "      <td>0.033545</td>\n",
       "      <td>-0.008909</td>\n",
       "      <td>0.045492</td>\n",
       "      <td>0.024023</td>\n",
       "      <td>0.014706</td>\n",
       "      <td>-0.002105</td>\n",
       "      <td>0.082888</td>\n",
       "      <td>0.004689</td>\n",
       "    </tr>\n",
       "    <tr>\n",
       "      <th>242</th>\n",
       "      <td>-0.001663</td>\n",
       "      <td>0.061360</td>\n",
       "      <td>0.004843</td>\n",
       "      <td>0.032511</td>\n",
       "      <td>0.026337</td>\n",
       "      <td>0.004280</td>\n",
       "      <td>0.035891</td>\n",
       "      <td>0.021767</td>\n",
       "      <td>0.007739</td>\n",
       "      <td>0.027845</td>\n",
       "      <td>...</td>\n",
       "      <td>0.036713</td>\n",
       "      <td>0.025391</td>\n",
       "      <td>0.009611</td>\n",
       "      <td>0.006772</td>\n",
       "      <td>0.040895</td>\n",
       "      <td>0.012906</td>\n",
       "      <td>-0.014106</td>\n",
       "      <td>0.017910</td>\n",
       "      <td>0.019635</td>\n",
       "      <td>0.018594</td>\n",
       "    </tr>\n",
       "  </tbody>\n",
       "</table>\n",
       "<p>243 rows × 43 columns</p>\n",
       "</div>"
      ],
      "text/plain": [
       "       601088    601601    601857    600196    600837    600585    600588  \\\n",
       "0    0.008681  0.009870  0.001706  0.010086 -0.007619  0.009042  0.058412   \n",
       "1    0.001079  0.005584  0.013629  0.001848  0.005758 -0.023571 -0.000330   \n",
       "2    0.011309 -0.022785  0.033167 -0.006696  0.016077 -0.012775  0.016584   \n",
       "3    0.006417  0.003594 -0.009724  0.006737 -0.004425  0.006777  0.000324   \n",
       "4   -0.025491 -0.005168 -0.004792 -0.016455 -0.021879 -0.005849  0.004916   \n",
       "..        ...       ...       ...       ...       ...       ...       ...   \n",
       "238  0.023269 -0.011449  0.004819 -0.029791  0.007968 -0.004865  0.025000   \n",
       "239 -0.003759  0.024011 -0.007194 -0.049571 -0.007911 -0.018768 -0.020673   \n",
       "240 -0.024324  0.000828 -0.002415 -0.019392 -0.011111  0.019406  0.049325   \n",
       "241  0.003898 -0.001103  0.002427  0.010537  0.004827  0.002734 -0.008702   \n",
       "242 -0.001663  0.061360  0.004843  0.032511  0.026337  0.004280  0.035891   \n",
       "\n",
       "       603259    603288    601628  ...    600809    601066    603501  \\\n",
       "0   -0.009406  0.002320 -0.004841  ... -0.001237  0.001920  0.039819   \n",
       "1   -0.026077 -0.028479 -0.003135  ... -0.004091  0.002258 -0.035519   \n",
       "2   -0.016580 -0.010504 -0.002591  ... -0.015143  0.020132 -0.001129   \n",
       "3    0.011041  0.020900  0.006877  ...  0.003811  0.028405 -0.015000   \n",
       "4   -0.000458  0.001604 -0.017842  ...  0.013873 -0.019872  0.009609   \n",
       "..        ...       ...       ...  ...       ...       ...       ...   \n",
       "238  0.047225  0.041451  0.004552  ...  0.026677  0.000750 -0.034622   \n",
       "239 -0.019182 -0.011959 -0.001335  ...  0.066369 -0.007828  0.017682   \n",
       "240 -0.001931  0.003865  0.008558  ...  0.004520  0.001519 -0.014667   \n",
       "241  0.014772  0.026013 -0.002136  ...  0.008760  0.027813  0.033545   \n",
       "242  0.021767  0.007739  0.027845  ...  0.036713  0.025391  0.009611   \n",
       "\n",
       "       600050    600436    600309    600438    601336    600570    601211  \n",
       "0    0.020270 -0.007001 -0.010796  0.063910  0.015984  0.007994 -0.006915  \n",
       "1   -0.003300 -0.004566  0.018605  0.012694 -0.001176 -0.001516  0.009110  \n",
       "2    0.006689  0.003232 -0.026455  0.057828 -0.012392  0.021711  0.019293  \n",
       "3   -0.001658  0.010189 -0.007609  0.000659  0.007357  0.019363 -0.002619  \n",
       "4   -0.010033  0.002097 -0.010398 -0.046735 -0.013917  0.001486 -0.009043  \n",
       "..        ...       ...       ...       ...       ...       ...       ...  \n",
       "238  0.008989  0.012146  0.040023  0.066211 -0.012153  0.027432  0.011144  \n",
       "239  0.004464 -0.004024 -0.031797  0.010973  0.015631 -0.015769 -0.011034  \n",
       "240 -0.004435 -0.027850  0.010975 -0.076481  0.004561 -0.002331  0.000000  \n",
       "241 -0.008909  0.045492  0.024023  0.014706 -0.002105  0.082888  0.004689  \n",
       "242  0.006772  0.040895  0.012906 -0.014106  0.017910  0.019635  0.018594  \n",
       "\n",
       "[243 rows x 43 columns]"
      ]
     },
     "execution_count": 301,
     "metadata": {},
     "output_type": "execute_result"
    }
   ],
   "source": [
    "ret"
   ]
  },
  {
   "cell_type": "code",
   "execution_count": 608,
   "metadata": {},
   "outputs": [],
   "source": [
    "T = ret.shape[0]\n",
    "ret_mean = dict(ret.mean())\n",
    "exp_ret = 0.004"
   ]
  },
  {
   "cell_type": "code",
   "execution_count": 609,
   "metadata": {},
   "outputs": [
    {
     "name": "stdout",
     "output_type": "stream",
     "text": [
      "Gurobi Optimizer version 9.1.2 build v9.1.2rc0 (win64)\n",
      "Thread count: 4 physical cores, 4 logical processors, using up to 4 threads\n",
      "Optimize a model with 488 rows, 286 columns and 21470 nonzeros\n",
      "Model fingerprint: 0xef686a55\n",
      "Coefficient statistics:\n",
      "  Matrix range     [3e-06, 1e+00]\n",
      "  Objective range  [4e-03, 4e-03]\n",
      "  Bounds range     [0e+00, 0e+00]\n",
      "  RHS range        [4e-03, 1e+00]\n",
      "Presolve removed 6 rows and 3 columns\n",
      "Presolve time: 0.05s\n",
      "Presolved: 482 rows, 283 columns, 21206 nonzeros\n",
      "\n",
      "Iteration    Objective       Primal Inf.    Dual Inf.      Time\n",
      "       0    0.0000000e+00   2.560000e-01   0.000000e+00      0s\n",
      "     273    7.8532898e-03   0.000000e+00   0.000000e+00      0s\n",
      "\n",
      "Solved in 273 iterations and 0.10 seconds\n",
      "Optimal objective  7.853289810e-03\n"
     ]
    }
   ],
   "source": [
    "#model\n",
    "m1 = grb.Model('MAD')\n",
    "#var\n",
    "x = m1.addVars(stocks,name='invest')\n",
    "y = m1.addVars(T,name='y')\n",
    "#obj\n",
    "m1.setObjective(y.sum()/T,sense=grb.GRB.MINIMIZE)\n",
    "#cons\n",
    "m1.addConstrs(y[i]+grb.quicksum((ret[s][i]-ret_mean[s])*x[s] for s in stocks)>=0 for i in range(T))\n",
    "m1.addConstrs(y[i]-grb.quicksum((ret[s][i]-ret_mean[s])*x[s] for s in stocks)>=0 for i in range(T))\n",
    "\n",
    "m1.addConstr(x.sum()<=1,name='budget')\n",
    "m1.addConstr(x.prod(ret_mean)>=exp_ret,name='exp_ret')\n",
    "#optimize\n",
    "m1.optimize()"
   ]
  },
  {
   "cell_type": "code",
   "execution_count": 610,
   "metadata": {},
   "outputs": [
    {
     "name": "stdout",
     "output_type": "stream",
     "text": [
      "invest[603288] 0.08154157667298463\n",
      "invest[601888] 0.0055237812842113005\n",
      "invest[601633] 0.10465911843609806\n",
      "invest[601899] 0.09365769106978268\n",
      "invest[601398] 0.025376532539178355\n",
      "invest[600809] 0.2747090349710795\n",
      "invest[603501] 0.03460554043558649\n",
      "invest[601336] 0.014087760863355381\n",
      "['603288', '601888', '601633', '601899', '601398', '600809', '603501', '601336']\n"
     ]
    }
   ],
   "source": [
    "#print\n",
    "if m1.status == grb.GRB.OPTIMAL:\n",
    "    for v in m1.getVars()[:43]:\n",
    "        if v.x >= 1e-6:\n",
    "            print(v.varName,v.x)\n",
    "    stock_invset = [s for s in stocks if x[s].x >= 1e-6]\n",
    "    print(stock_invset)"
   ]
  },
  {
   "cell_type": "code",
   "execution_count": 611,
   "metadata": {},
   "outputs": [],
   "source": [
    "profolio1 = 0\n",
    "sm = 0\n",
    "for i in stock_invset:\n",
    "    profolio1 += x[i].x*ret[i].values\n",
    "    sm += x[i].x"
   ]
  },
  {
   "cell_type": "code",
   "execution_count": 612,
   "metadata": {},
   "outputs": [
    {
     "name": "stdout",
     "output_type": "stream",
     "text": [
      "0.2998463710808427\n"
     ]
    }
   ],
   "source": [
    "#利用总投资比例对夏普比率进行修正\n",
    "sharp1 = (profolio1.mean() - 0.002)/(profolio1.std()*sm)\n",
    "print(sharp1)"
   ]
  },
  {
   "cell_type": "code",
   "execution_count": null,
   "metadata": {},
   "outputs": [],
   "source": []
  },
  {
   "cell_type": "code",
   "execution_count": null,
   "metadata": {},
   "outputs": [],
   "source": []
  },
  {
   "cell_type": "code",
   "execution_count": 613,
   "metadata": {},
   "outputs": [
    {
     "name": "stdout",
     "output_type": "stream",
     "text": [
      "Gurobi Optimizer version 9.1.2 build v9.1.2rc0 (win64)\n",
      "Thread count: 4 physical cores, 4 logical processors, using up to 4 threads\n",
      "Optimize a model with 245 rows, 286 columns and 10778 nonzeros\n",
      "Model fingerprint: 0x4c46ce1f\n",
      "Coefficient statistics:\n",
      "  Matrix range     [3e-06, 1e+00]\n",
      "  Objective range  [4e-03, 4e-03]\n",
      "  Bounds range     [0e+00, 0e+00]\n",
      "  RHS range        [4e-03, 1e+00]\n",
      "Presolve removed 3 rows and 3 columns\n",
      "Presolve time: 0.06s\n",
      "Presolved: 242 rows, 283 columns, 10646 nonzeros\n",
      "\n",
      "Iteration    Objective       Primal Inf.    Dual Inf.      Time\n",
      "       0    0.0000000e+00   2.560000e-01   0.000000e+00      0s\n",
      "     157    3.9266449e-03   0.000000e+00   0.000000e+00      0s\n",
      "\n",
      "Solved in 157 iterations and 0.08 seconds\n",
      "Optimal objective  3.926644905e-03\n"
     ]
    }
   ],
   "source": [
    "#model\n",
    "m2 = grb.Model('SMAD')\n",
    "\n",
    "#var\n",
    "x = m2.addVars(stocks,name='invest')\n",
    "y = m2.addVars(T,name='y')\n",
    "\n",
    "#obj\n",
    "m2.setObjective(y.sum()/T,sense=grb.GRB.MINIMIZE)\n",
    "\n",
    "#cons\n",
    "m2.addConstrs(y[i]+grb.quicksum((ret[s][i]-ret_mean[s])*x[s] for s in stocks)>=0 for i in range(T))\n",
    "m2.addConstr(x.sum()<=1,name='budget')\n",
    "m2.addConstr(x.prod(ret_mean)>=exp_ret,name='exp_ret')\n",
    "\n",
    "#optimize\n",
    "m2.optimize()"
   ]
  },
  {
   "cell_type": "code",
   "execution_count": 614,
   "metadata": {},
   "outputs": [
    {
     "name": "stdout",
     "output_type": "stream",
     "text": [
      "invest[603288] 0.08154157667298477\n",
      "invest[601888] 0.005523781284211225\n",
      "invest[601633] 0.10465911843609794\n",
      "invest[601899] 0.09365769106978254\n",
      "invest[601398] 0.025376532539178383\n",
      "invest[600809] 0.2747090349710796\n",
      "invest[603501] 0.03460554043558646\n",
      "invest[601336] 0.014087760863355541\n",
      "['603288', '601888', '601633', '601899', '601398', '600809', '603501', '601336']\n"
     ]
    }
   ],
   "source": [
    "#print\n",
    "if m2.status == grb.GRB.OPTIMAL:\n",
    "    for v in m2.getVars()[:43]:\n",
    "        if v.x >= 1e-6:\n",
    "            print(v.varName,v.x)\n",
    "    stock_invset = [s for s in stocks if x[s].x >= 1e-6]\n",
    "    print(stock_invset)"
   ]
  },
  {
   "cell_type": "code",
   "execution_count": 615,
   "metadata": {},
   "outputs": [],
   "source": [
    "profolio2 = 0\n",
    "sm = 0\n",
    "for i in stock_invset:\n",
    "    profolio2 += x[i].x*ret[i].values\n",
    "    sm += x[i].x"
   ]
  },
  {
   "cell_type": "code",
   "execution_count": 616,
   "metadata": {},
   "outputs": [
    {
     "name": "stdout",
     "output_type": "stream",
     "text": [
      "0.2998463710808427\n"
     ]
    }
   ],
   "source": [
    "sharp2 = (profolio2.mean() - 0.002)/(profolio2.std()*sm)\n",
    "print(sharp2)"
   ]
  },
  {
   "cell_type": "code",
   "execution_count": null,
   "metadata": {},
   "outputs": [],
   "source": []
  },
  {
   "cell_type": "code",
   "execution_count": 669,
   "metadata": {},
   "outputs": [],
   "source": [
    "alpha = 0.02\n",
    "aT = int(alpha*T)"
   ]
  },
  {
   "cell_type": "code",
   "execution_count": 670,
   "metadata": {},
   "outputs": [
    {
     "name": "stdout",
     "output_type": "stream",
     "text": [
      "Gurobi Optimizer version 9.1.2 build v9.1.2rc0 (win64)\n",
      "Thread count: 4 physical cores, 4 logical processors, using up to 4 threads\n",
      "Optimize a model with 245 rows, 287 columns and 10705 nonzeros\n",
      "Model fingerprint: 0x6e0fa2d1\n",
      "Coefficient statistics:\n",
      "  Matrix range     [5e-06, 1e+00]\n",
      "  Objective range  [1e+00, 2e+00]\n",
      "  Bounds range     [0e+00, 0e+00]\n",
      "  RHS range        [4e-03, 1e+00]\n",
      "Presolve time: 0.02s\n",
      "Presolved: 245 rows, 287 columns, 10705 nonzeros\n",
      "\n",
      "Iteration    Objective       Primal Inf.    Dual Inf.      Time\n",
      "       0    0.0000000e+00   2.560000e-01   0.000000e+00      0s\n",
      "       5    2.7044785e-02   0.000000e+00   0.000000e+00      0s\n",
      "\n",
      "Solved in 5 iterations and 0.04 seconds\n",
      "Optimal objective  2.704478514e-02\n"
     ]
    }
   ],
   "source": [
    "#model\n",
    "m3 = grb.Model('cvar')\n",
    "#var\n",
    "x = m3.addVars(stocks,name='invest')\n",
    "s = m3.addVar(name='s')\n",
    "p = m3.addVars(T,name='p')\n",
    "#obj\n",
    "m3.setObjective(aT*s+p.sum(),sense=grb.GRB.MINIMIZE)\n",
    "#cons\n",
    "m3.addConstrs(s+p[i] >= (-1/aT)*x.prod(dict(ret.iloc[i,:])) for i in range(T))\n",
    "m3.addConstr(x.sum()<=1,name='budget')\n",
    "m3.addConstr(x.prod(ret_mean)>=exp_ret,name='exp_ret')\n",
    "#optimize\n",
    "m3.optimize()"
   ]
  },
  {
   "cell_type": "code",
   "execution_count": 671,
   "metadata": {},
   "outputs": [
    {
     "name": "stdout",
     "output_type": "stream",
     "text": [
      "invest[603288] 0.26633166333537517\n",
      "invest[601633] 0.33416814567516034\n",
      "invest[600809] 0.057516416864699334\n",
      "['603288', '601633', '600809']\n"
     ]
    }
   ],
   "source": [
    "#print\n",
    "if m3.status == grb.GRB.OPTIMAL:\n",
    "    for v in m3.getVars()[:43]:\n",
    "        if v.x >= 1e-6:\n",
    "            print(v.varName,v.x)\n",
    "    stock_invset = [s for s in stocks if x[s].x >= 1e-6]\n",
    "    print(stock_invset)"
   ]
  },
  {
   "cell_type": "code",
   "execution_count": 672,
   "metadata": {},
   "outputs": [],
   "source": [
    "profolio3 = 0\n",
    "sm = 0\n",
    "for i in stock_invset:\n",
    "    profolio3 += x[i].x*ret[i].values\n",
    "    sm += x[i].x"
   ]
  },
  {
   "cell_type": "code",
   "execution_count": 673,
   "metadata": {},
   "outputs": [
    {
     "name": "stdout",
     "output_type": "stream",
     "text": [
      "0.2296578748993454\n"
     ]
    }
   ],
   "source": [
    "sharp3 = (profolio3.mean() - 0.002)/(profolio3.std()*sm)\n",
    "print(sharp3)"
   ]
  },
  {
   "cell_type": "code",
   "execution_count": null,
   "metadata": {},
   "outputs": [],
   "source": []
  },
  {
   "cell_type": "code",
   "execution_count": 762,
   "metadata": {},
   "outputs": [],
   "source": [
    "alpha = 0.05\n",
    "delta = 30\n",
    "aT = int(alpha*(T-delta))"
   ]
  },
  {
   "cell_type": "code",
   "execution_count": 763,
   "metadata": {},
   "outputs": [],
   "source": [
    "dd = pd.DataFrame()\n",
    "for i in stocks:\n",
    "    dd[i] = [max(ret[i][j-delta:j])-ret[i][j] for j in range(delta,T)]"
   ]
  },
  {
   "cell_type": "code",
   "execution_count": 764,
   "metadata": {},
   "outputs": [
    {
     "name": "stdout",
     "output_type": "stream",
     "text": [
      "Warning for adding constraints: zero or small (< 1e-13) coefficients, ignored\n",
      "Gurobi Optimizer version 9.1.2 build v9.1.2rc0 (win64)\n",
      "Thread count: 4 physical cores, 4 logical processors, using up to 4 threads\n",
      "Optimize a model with 215 rows, 257 columns and 9670 nonzeros\n",
      "Model fingerprint: 0xd7be82ad\n",
      "Coefficient statistics:\n",
      "  Matrix range     [2e-06, 1e+00]\n",
      "  Objective range  [1e-01, 1e+00]\n",
      "  Bounds range     [0e+00, 0e+00]\n",
      "  RHS range        [4e-03, 1e+00]\n",
      "Presolve removed 98 rows and 98 columns\n",
      "Presolve time: 0.03s\n",
      "Presolved: 117 rows, 159 columns, 5260 nonzeros\n",
      "\n",
      "Iteration    Objective       Primal Inf.    Dual Inf.      Time\n",
      "       0    0.0000000e+00   2.560000e-01   0.000000e+00      0s\n",
      "       4    0.0000000e+00   0.000000e+00   0.000000e+00      0s\n",
      "\n",
      "Solved in 4 iterations and 0.05 seconds\n",
      "Optimal objective  0.000000000e+00\n"
     ]
    }
   ],
   "source": [
    "#model\n",
    "m4 = grb.Model('CDaR')\n",
    "\n",
    "#vars\n",
    "x = m4.addVars(stocks,name='invest')\n",
    "y = m4.addVar(name='y')\n",
    "z = m4.addVars(T-delta,name='z')\n",
    "\n",
    "#obj\n",
    "m4.setObjective(y+(1/aT)*z.sum(),sense=grb.GRB.MINIMIZE)\n",
    "\n",
    "#cons\n",
    "m4.addConstrs(z[i] >= (-1/aT)*x.prod(dict(dd.iloc[i,:]))-y for i in range(T-delta))\n",
    "m4.addConstr(x.sum()<=1,name='budget')\n",
    "m4.addConstr(x.prod(ret_mean)>=exp_ret,name='exp_ret')\n",
    "\n",
    "#optimize\n",
    "m4.optimize()"
   ]
  },
  {
   "cell_type": "code",
   "execution_count": 765,
   "metadata": {},
   "outputs": [
    {
     "name": "stdout",
     "output_type": "stream",
     "text": [
      "invest[600588] 0.17451238548225778\n",
      "invest[600809] 0.40608885755741897\n",
      "invest[601066] 0.04962968632921911\n",
      "['600588', '600809', '601066']\n"
     ]
    }
   ],
   "source": [
    "#print\n",
    "if m4.status == grb.GRB.OPTIMAL:\n",
    "    for v in m4.getVars()[:43]:\n",
    "        if v.x >= 1e-6:\n",
    "            print(v.varName,v.x)\n",
    "    stock_invset = [s for s in stocks if x[s].x >= 1e-6]\n",
    "    print(stock_invset)"
   ]
  },
  {
   "cell_type": "code",
   "execution_count": 766,
   "metadata": {},
   "outputs": [],
   "source": [
    "profolio4 = 0\n",
    "sm = 0\n",
    "for i in stock_invset:\n",
    "    profolio4 += x[i].x*ret[i].values\n",
    "    sm += x[i].x"
   ]
  },
  {
   "cell_type": "code",
   "execution_count": 767,
   "metadata": {},
   "outputs": [
    {
     "name": "stdout",
     "output_type": "stream",
     "text": [
      "0.23831148108107414\n"
     ]
    }
   ],
   "source": [
    "sharp4 = (profolio4.mean() - 0.002)/(profolio4.std()*sm) \n",
    "print(sharp4)"
   ]
  },
  {
   "cell_type": "code",
   "execution_count": null,
   "metadata": {},
   "outputs": [],
   "source": []
  },
  {
   "cell_type": "code",
   "execution_count": null,
   "metadata": {},
   "outputs": [],
   "source": []
  },
  {
   "cell_type": "code",
   "execution_count": null,
   "metadata": {},
   "outputs": [],
   "source": []
  }
 ],
 "metadata": {
  "interpreter": {
   "hash": "b3bc399b0814b40a0ba5bd9df4237b58abe7d951190c4f8596bfacaccf729cb8"
  },
  "kernelspec": {
   "display_name": "Python 3.8.5 64-bit ('base': conda)",
   "language": "python",
   "name": "python3"
  },
  "language_info": {
   "codemirror_mode": {
    "name": "ipython",
    "version": 3
   },
   "file_extension": ".py",
   "mimetype": "text/x-python",
   "name": "python",
   "nbconvert_exporter": "python",
   "pygments_lexer": "ipython3",
   "version": "3.8.5"
  },
  "orig_nbformat": 4
 },
 "nbformat": 4,
 "nbformat_minor": 2
}
